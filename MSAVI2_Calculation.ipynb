{
  "nbformat": 4,
  "nbformat_minor": 0,
  "metadata": {
    "colab": {
      "name": "MSAVI2 Calculation",
      "provenance": [],
      "include_colab_link": true
    },
    "kernelspec": {
      "name": "python3",
      "display_name": "Python 3"
    },
    "language_info": {
      "name": "python"
    }
  },
  "cells": [
    {
      "cell_type": "markdown",
      "metadata": {
        "id": "view-in-github",
        "colab_type": "text"
      },
      "source": [
        "<a href=\"https://colab.research.google.com/github/Sumana18/MSAVI_GEE/blob/main/MSAVI2_Calculation.ipynb\" target=\"_parent\"><img src=\"https://colab.research.google.com/assets/colab-badge.svg\" alt=\"Open In Colab\"/></a>"
      ]
    },
    {
      "cell_type": "markdown",
      "metadata": {
        "id": "WJ3bMfleWCHI"
      },
      "source": [
        "**Brief Introduction:**\n",
        "\n",
        "*   The modified soil-adjusted vegetation index (MSAVI) is a vegetation index, which is used to lift limits on applying NDVI to the areas with a high composition of bare soil. \n",
        "*   MSAVI is used in the areas where indices like NDVI provide invalid data, mostly due to a small amount of vegetation, or due to a lack of chlorophyll therein. Thus, the index is used to minimize the soil background influence and to increase the dynamic range of vegetation signal.\n",
        "*   Especially to be used  for analysis of young crops; for arid regions with sparse vegetation (less than 15% of total area) and exposed soil surfaces.\n",
        "Its ranges form -1 to +1, Higher the value denser the vegetation.\n",
        "\n",
        "**The formula:**\n",
        "\n",
        "`MSAVI = (2 * NIR + 1 – sqrt ((2 * NIR + 1)2 – 8 * (NIR - Red))) / 2`\n",
        "\n",
        "\n",
        "**About the Task:**\n",
        "*  Coordinates of three locations have been provided, Place1 is located in Punjab, Place 2 is located in UP and Place 3 in Telangana.\n",
        "*  All of them are located in India\n",
        "*  MSAVI2 has been calculated for each of this location.\n",
        "*  The time of analysis is January 2020 to June 2020.\n",
        "*  The dataset used is LANDSAT8"
      ]
    },
    {
      "cell_type": "code",
      "metadata": {
        "colab": {
          "base_uri": "https://localhost:8080/"
        },
        "id": "bEdmaFjd27sM",
        "outputId": "70efac7e-cb65-4248-f286-e09db5ba6165"
      },
      "source": [
        "#Immport and initialize the Google Earth Engine API.\n",
        "import ee\n",
        "ee.Authenticate()\n",
        "ee.Initialize()"
      ],
      "execution_count": 1,
      "outputs": [
        {
          "output_type": "stream",
          "text": [
            "To authorize access needed by Earth Engine, open the following URL in a web browser and follow the instructions. If the web browser does not start automatically, please manually browse the URL below.\n",
            "\n",
            "    https://accounts.google.com/o/oauth2/auth?client_id=517222506229-vsmmajv00ul0bs7p89v5m89qs8eb9359.apps.googleusercontent.com&scope=https%3A%2F%2Fwww.googleapis.com%2Fauth%2Fearthengine+https%3A%2F%2Fwww.googleapis.com%2Fauth%2Fdevstorage.full_control&redirect_uri=urn%3Aietf%3Awg%3Aoauth%3A2.0%3Aoob&response_type=code&code_challenge=isw4iT3JooumOErh1NcSajB5HqvvWSG78pf_MPh_kCI&code_challenge_method=S256\n",
            "\n",
            "The authorization workflow will generate a code, which you should paste in the box below. \n",
            "Enter verification code: 4/1AY0e-g4IYFyw8rNpqbB6EpwjKzbMJBaYnBO2Qtyf-VSpH__kqnFaa2pAu8c\n",
            "\n",
            "Successfully saved authorization token.\n"
          ],
          "name": "stdout"
        }
      ]
    },
    {
      "cell_type": "code",
      "metadata": {
        "id": "5udGhLuQ3P0D"
      },
      "source": [
        "#import required libraries.\n",
        "import pandas as pd\n",
        "import matplotlib\n",
        "import matplotlib.pyplot as plt\n",
        "import seaborn as sns"
      ],
      "execution_count": 108,
      "outputs": []
    },
    {
      "cell_type": "code",
      "metadata": {
        "id": "RvWvOKjP3c9K"
      },
      "source": [
        "#The coordinates of each location converted into polygon feature.\n",
        "place1 = ee.Geometry.Polygon([[75.45157492160797,30.634404129904425],[75.4524278640747,30.63372099804389],[75.45236885547638,30.634399514164798],[75.45157492160797, 30.634404129904425]])\n",
        "place2 = ee.Geometry.Polygon([[85.85622847080231, 26.09425078918021], [85.85590660572052, 26.093581136401006],[85.85663080215454, 26.09337879451938], [85.85686147212981, 26.094009907326967], [85.85622847080231, 26.09425078918021]])\n",
        "place3 = ee.Geometry.Polygon([[78.66571158170699, 17.66869116558751], [78.6662346124649, 17.6686911655875], [78.6662346124649, 17.66929686130703], [78.66571158170699, 17.66929686130703], [78.66571158170699, 17.66869116558751]])\n",
        "\n",
        "# A function to get and rename bands of interest from OLI.\n",
        "def rename_oli(img):\n",
        "  return (img.select(\n",
        "      ee.List(['B2', 'B3', 'B4', 'B5', 'B6', 'B7', 'pixel_qa']),\n",
        "      ee.List(['Blue', 'Green', 'Red', 'NIR', 'SWIR1', 'SWIR2', 'pixel_qa'])))\n",
        "\n",
        "\n",
        "# A function to mask out clouds and cloud shadows using QA band.\n",
        "def cfmask(img):\n",
        "  cloud_shadow_bi_mask = 1 << 3\n",
        "  cloud_bit_mask = 1 << 5\n",
        "  qa = img.select('pixel_qa')\n",
        "  mask = qa.bitwiseAnd(cloud_shadow_bi_mask).eq(0).And(\n",
        "      qa.bitwiseAnd(cloud_bit_mask).eq(0))\n",
        "  return img.updateMask(mask)\n",
        "\n",
        "\n",
        "# A function to calculate MSAVI2.\n",
        "def calc_msavi2(img):\n",
        "  return img.expression( '(2 * NIR + 1 - sqrt(pow((2 * NIR + 1), 2) - 8 * (NIR - Red)) ) / 2', \n",
        "  {\n",
        "    'NIR': img.select('NIR'), \n",
        "    'Red': img.select('Red')\n",
        "  }).rename('MSAVI2')\n",
        "\n",
        "# Function to finally implement all the above functions and prepare OLI images.\n",
        "def prep_oli(img):\n",
        "  orig = img\n",
        "  img = rename_oli(img)\n",
        "  img = cfmask(img)\n",
        "  img = calc_msavi2(img)\n",
        "  img = img.copyProperties(orig, orig.propertyNames())\n",
        "  return img\n",
        "\n",
        "\n",
        "# Import image collections for Landsat8  (surface reflectance).\n",
        "oli_col = ee.ImageCollection('LANDSAT/LC08/C01/T1_SR').filterDate('2020-01-01','2020-6-30')\n",
        "\n",
        "# Filter collections and prepare\n",
        "place1_col = oli_col.filterBounds(place1).map(prep_oli)\n",
        "place2_col = oli_col.filterBounds(place2).map(prep_oli)\n",
        "place3_col = oli_col.filterBounds(place3).map(prep_oli)\n"
      ],
      "execution_count": 126,
      "outputs": []
    },
    {
      "cell_type": "code",
      "metadata": {
        "id": "uBVYu1G69Fhr"
      },
      "source": [
        "place1_col.getInfo()   #Metadata"
      ],
      "execution_count": null,
      "outputs": []
    },
    {
      "cell_type": "code",
      "metadata": {
        "id": "KYARjRjJE_XN"
      },
      "source": [
        "# Function to for reducing pixels intersecting a provided region to a statistic for each image in a collection\n",
        "def create_reduce_region_function(geometry,reducer,scale,crs):\n",
        "  def reduce_region_function(img):\n",
        "    mean = img.reduceRegion(\n",
        "        reducer=reducer,\n",
        "        geometry=geometry,\n",
        "        scale=scale,\n",
        "        crs=crs)\n",
        "\n",
        "    return ee.Feature(geometry, mean).set({'date': img.date().format()})\n",
        "  return reduce_region_function"
      ],
      "execution_count": 128,
      "outputs": []
    },
    {
      "cell_type": "code",
      "metadata": {
        "id": "84GGdCtzF05H"
      },
      "source": [
        "#calculate Mean for each region\n",
        "reduced_place1 = create_reduce_region_function(geometry=place1, reducer=ee.Reducer.mean(), scale=30, crs='EPSG:4326')\n",
        "reduced_place2 = create_reduce_region_function(geometry=place2, reducer=ee.Reducer.mean(), scale=30, crs='EPSG:4326')\n",
        "reduced_place3 = create_reduce_region_function(geometry=place3, reducer=ee.Reducer.mean(), scale=30, crs='EPSG:4326')"
      ],
      "execution_count": 129,
      "outputs": []
    },
    {
      "cell_type": "code",
      "metadata": {
        "id": "jd6tw5w5UNsn"
      },
      "source": [
        "# Filter out features with null computed values\n",
        "msavi_stat_fc_place1 = ee.FeatureCollection(place1_col.map(reduced_place1)).filter(\n",
        "    ee.Filter.notNull(place1_col.first().bandNames()))\n",
        "msavi_stat_fc_place2 = ee.FeatureCollection(place2_col.map(reduced_place2)).filter(\n",
        "    ee.Filter.notNull(place2_col.first().bandNames()))\n",
        "msavi_stat_fc_place3 = ee.FeatureCollection(place3_col.map(reduced_place3)).filter(\n",
        "    ee.Filter.notNull(place3_col.first().bandNames()))"
      ],
      "execution_count": 130,
      "outputs": []
    },
    {
      "cell_type": "code",
      "metadata": {
        "id": "0hCATagoUMqN"
      },
      "source": [
        "# Function to transfer feature properties to a dictionary\n",
        "def fc_to_dict(fc):\n",
        "  prop_names = fc.first().propertyNames()\n",
        "  prop_lists = fc.reduceColumns(\n",
        "      reducer=ee.Reducer.toList().repeat(prop_names.size()),\n",
        "      selectors=prop_names).get('list')\n",
        "\n",
        "  return ee.Dictionary.fromLists(prop_names, prop_lists)"
      ],
      "execution_count": 131,
      "outputs": []
    },
    {
      "cell_type": "code",
      "metadata": {
        "colab": {
          "base_uri": "https://localhost:8080/",
          "height": 195
        },
        "id": "yG2Qzk9JUgGe",
        "outputId": "54f78827-40ed-4e96-bc54-a4d33f25c0b6"
      },
      "source": [
        "#converting dictionary to dataframe for Place 1 (Punjab)\n",
        "msavi_dict_place1 = fc_to_dict(msavi_stat_fc_place1).getInfo()\n",
        "msavi_df_place1 = pd.DataFrame(msavi_dict_place1)\n",
        "msavi_df_place1['date'] = pd.to_datetime(msavi_df_place1['date'])\n",
        "display(msavi_df_place1)"
      ],
      "execution_count": 134,
      "outputs": [
        {
          "output_type": "display_data",
          "data": {
            "text/html": [
              "<div>\n",
              "<style scoped>\n",
              "    .dataframe tbody tr th:only-of-type {\n",
              "        vertical-align: middle;\n",
              "    }\n",
              "\n",
              "    .dataframe tbody tr th {\n",
              "        vertical-align: top;\n",
              "    }\n",
              "\n",
              "    .dataframe thead th {\n",
              "        text-align: right;\n",
              "    }\n",
              "</style>\n",
              "<table border=\"1\" class=\"dataframe\">\n",
              "  <thead>\n",
              "    <tr style=\"text-align: right;\">\n",
              "      <th></th>\n",
              "      <th>MSAVI2</th>\n",
              "      <th>date</th>\n",
              "      <th>system:index</th>\n",
              "    </tr>\n",
              "  </thead>\n",
              "  <tbody>\n",
              "    <tr>\n",
              "      <th>0</th>\n",
              "      <td>0.832523</td>\n",
              "      <td>2020-01-23 05:30:57</td>\n",
              "      <td>LC08_148039_20200123</td>\n",
              "    </tr>\n",
              "    <tr>\n",
              "      <th>1</th>\n",
              "      <td>0.620982</td>\n",
              "      <td>2020-02-08 05:30:52</td>\n",
              "      <td>LC08_148039_20200208</td>\n",
              "    </tr>\n",
              "    <tr>\n",
              "      <th>2</th>\n",
              "      <td>0.545132</td>\n",
              "      <td>2020-02-24 05:30:48</td>\n",
              "      <td>LC08_148039_20200224</td>\n",
              "    </tr>\n",
              "    <tr>\n",
              "      <th>3</th>\n",
              "      <td>0.629424</td>\n",
              "      <td>2020-05-30 05:30:17</td>\n",
              "      <td>LC08_148039_20200530</td>\n",
              "    </tr>\n",
              "    <tr>\n",
              "      <th>4</th>\n",
              "      <td>0.655755</td>\n",
              "      <td>2020-06-15 05:30:27</td>\n",
              "      <td>LC08_148039_20200615</td>\n",
              "    </tr>\n",
              "  </tbody>\n",
              "</table>\n",
              "</div>"
            ],
            "text/plain": [
              "     MSAVI2                date          system:index\n",
              "0  0.832523 2020-01-23 05:30:57  LC08_148039_20200123\n",
              "1  0.620982 2020-02-08 05:30:52  LC08_148039_20200208\n",
              "2  0.545132 2020-02-24 05:30:48  LC08_148039_20200224\n",
              "3  0.629424 2020-05-30 05:30:17  LC08_148039_20200530\n",
              "4  0.655755 2020-06-15 05:30:27  LC08_148039_20200615"
            ]
          },
          "metadata": {
            "tags": []
          }
        }
      ]
    },
    {
      "cell_type": "code",
      "metadata": {
        "colab": {
          "base_uri": "https://localhost:8080/",
          "height": 342
        },
        "id": "fZXNHSWEV4wX",
        "outputId": "04061cfe-2821-468d-b760-9ca519f9b57b"
      },
      "source": [
        "# Time-series plot of MSAVI2 for PLace 1\n",
        "msavi_df_place1.plot(x='date', y='MSAVI2',marker ='.',markersize=10,color ='Brown',figsize=(8,5),title='MSAVI values of Place1 from January 2020 to June 2020')\n",
        "plt.xlabel(\"Dates\",color = 'Blue')\n",
        "plt.ylabel(\"Modified Soil Adjusted Vegetation Index\",color='Blue')\n",
        "plt.show()"
      ],
      "execution_count": 135,
      "outputs": [
        {
          "output_type": "display_data",
          "data": {
            "image/png": "[encoded data removed]",
            "text/plain": [
              "<Figure size 576x360 with 1 Axes>"
            ]
          },
          "metadata": {
            "tags": [],
            "needs_background": "light"
          }
        }
      ]
    },
    {
      "cell_type": "code",
      "metadata": {
        "id": "tfX-nQOu270b",
        "colab": {
          "base_uri": "https://localhost:8080/",
          "height": 373
        },
        "outputId": "d6d67027-6ca8-410d-9c6d-a3fec7bae0da"
      },
      "source": [
        "#converting dictionary to dataframe for Place 2 (UP)\n",
        "msavi_dict_place2 = fc_to_dict(msavi_stat_fc_place2).getInfo()\n",
        "msavi_df_place2 = pd.DataFrame(msavi_dict_place2)\n",
        "msavi_df_place2['date'] = pd.to_datetime(msavi_df_place2['date'])\n",
        "display(msavi_df_place2)"
      ],
      "execution_count": 136,
      "outputs": [
        {
          "output_type": "display_data",
          "data": {
            "text/html": [
              "<div>\n",
              "<style scoped>\n",
              "    .dataframe tbody tr th:only-of-type {\n",
              "        vertical-align: middle;\n",
              "    }\n",
              "\n",
              "    .dataframe tbody tr th {\n",
              "        vertical-align: top;\n",
              "    }\n",
              "\n",
              "    .dataframe thead th {\n",
              "        text-align: right;\n",
              "    }\n",
              "</style>\n",
              "<table border=\"1\" class=\"dataframe\">\n",
              "  <thead>\n",
              "    <tr style=\"text-align: right;\">\n",
              "      <th></th>\n",
              "      <th>MSAVI2</th>\n",
              "      <th>date</th>\n",
              "      <th>system:index</th>\n",
              "    </tr>\n",
              "  </thead>\n",
              "  <tbody>\n",
              "    <tr>\n",
              "      <th>0</th>\n",
              "      <td>0.926145</td>\n",
              "      <td>2020-01-31 04:42:39</td>\n",
              "      <td>LC08_140042_20200131</td>\n",
              "    </tr>\n",
              "    <tr>\n",
              "      <th>1</th>\n",
              "      <td>0.893803</td>\n",
              "      <td>2020-02-16 04:42:35</td>\n",
              "      <td>LC08_140042_20200216</td>\n",
              "    </tr>\n",
              "    <tr>\n",
              "      <th>2</th>\n",
              "      <td>0.862376</td>\n",
              "      <td>2020-03-03 04:42:30</td>\n",
              "      <td>LC08_140042_20200303</td>\n",
              "    </tr>\n",
              "    <tr>\n",
              "      <th>3</th>\n",
              "      <td>0.551971</td>\n",
              "      <td>2020-03-19 04:42:23</td>\n",
              "      <td>LC08_140042_20200319</td>\n",
              "    </tr>\n",
              "    <tr>\n",
              "      <th>4</th>\n",
              "      <td>0.357871</td>\n",
              "      <td>2020-04-04 04:42:14</td>\n",
              "      <td>LC08_140042_20200404</td>\n",
              "    </tr>\n",
              "    <tr>\n",
              "      <th>5</th>\n",
              "      <td>0.925494</td>\n",
              "      <td>2020-02-07 04:48:48</td>\n",
              "      <td>LC08_141042_20200207</td>\n",
              "    </tr>\n",
              "    <tr>\n",
              "      <th>6</th>\n",
              "      <td>0.900534</td>\n",
              "      <td>2020-02-23 04:48:44</td>\n",
              "      <td>LC08_141042_20200223</td>\n",
              "    </tr>\n",
              "    <tr>\n",
              "      <th>7</th>\n",
              "      <td>0.775629</td>\n",
              "      <td>2020-03-10 04:48:38</td>\n",
              "      <td>LC08_141042_20200310</td>\n",
              "    </tr>\n",
              "    <tr>\n",
              "      <th>8</th>\n",
              "      <td>0.449141</td>\n",
              "      <td>2020-03-26 04:48:30</td>\n",
              "      <td>LC08_141042_20200326</td>\n",
              "    </tr>\n",
              "    <tr>\n",
              "      <th>9</th>\n",
              "      <td>0.358027</td>\n",
              "      <td>2020-04-11 04:48:22</td>\n",
              "      <td>LC08_141042_20200411</td>\n",
              "    </tr>\n",
              "    <tr>\n",
              "      <th>10</th>\n",
              "      <td>0.379438</td>\n",
              "      <td>2020-05-13 04:48:09</td>\n",
              "      <td>LC08_141042_20200513</td>\n",
              "    </tr>\n",
              "  </tbody>\n",
              "</table>\n",
              "</div>"
            ],
            "text/plain": [
              "      MSAVI2                date          system:index\n",
              "0   0.926145 2020-01-31 04:42:39  LC08_140042_20200131\n",
              "1   0.893803 2020-02-16 04:42:35  LC08_140042_20200216\n",
              "2   0.862376 2020-03-03 04:42:30  LC08_140042_20200303\n",
              "3   0.551971 2020-03-19 04:42:23  LC08_140042_20200319\n",
              "4   0.357871 2020-04-04 04:42:14  LC08_140042_20200404\n",
              "5   0.925494 2020-02-07 04:48:48  LC08_141042_20200207\n",
              "6   0.900534 2020-02-23 04:48:44  LC08_141042_20200223\n",
              "7   0.775629 2020-03-10 04:48:38  LC08_141042_20200310\n",
              "8   0.449141 2020-03-26 04:48:30  LC08_141042_20200326\n",
              "9   0.358027 2020-04-11 04:48:22  LC08_141042_20200411\n",
              "10  0.379438 2020-05-13 04:48:09  LC08_141042_20200513"
            ]
          },
          "metadata": {
            "tags": []
          }
        }
      ]
    },
    {
      "cell_type": "code",
      "metadata": {
        "colab": {
          "base_uri": "https://localhost:8080/",
          "height": 350
        },
        "id": "ADVWV8N5WUGH",
        "outputId": "9645f93e-76b8-49c5-f257-b46b86e65eeb"
      },
      "source": [
        "# Time-series plot of MSAVI2 for PLace 2\n",
        "msavi_df_place2.plot(x='date', y='MSAVI2',marker ='.',markersize=10,color ='Brown',figsize=(8,5),title='MSAVI values of Place2 from January 2020 to June 2020')\n",
        "plt.xlabel(\"Dates\",color = 'Blue')\n",
        "plt.ylabel(\"Modified Soil Adjusted Vegetation Index\",color='Blue')\n",
        "plt.show()"
      ],
      "execution_count": 137,
      "outputs": [
        {
          "output_type": "display_data",
          "data": {
            "image/png": "[encoded data removed]",
            "text/plain": [
              "<Figure size 576x360 with 1 Axes>"
            ]
          },
          "metadata": {
            "tags": [],
            "needs_background": "light"
          }
        }
      ]
    },
    {
      "cell_type": "code",
      "metadata": {
        "colab": {
          "base_uri": "https://localhost:8080/",
          "height": 284
        },
        "id": "hJ9ClIaWWUN7",
        "outputId": "fe57f581-4417-4e45-8759-4c66c7183901"
      },
      "source": [
        "#converting dictionary to dataframe for Place 3 (Telangana)\n",
        "msavi_dict_place3 = fc_to_dict(msavi_stat_fc_place3).getInfo()\n",
        "msavi_df_place3 = pd.DataFrame(msavi_dict_place3)\n",
        "msavi_df_place3['date'] = pd.to_datetime(msavi_df_place3['date'])\n",
        "display(msavi_df_place3)"
      ],
      "execution_count": 138,
      "outputs": [
        {
          "output_type": "display_data",
          "data": {
            "text/html": [
              "<div>\n",
              "<style scoped>\n",
              "    .dataframe tbody tr th:only-of-type {\n",
              "        vertical-align: middle;\n",
              "    }\n",
              "\n",
              "    .dataframe tbody tr th {\n",
              "        vertical-align: top;\n",
              "    }\n",
              "\n",
              "    .dataframe thead th {\n",
              "        text-align: right;\n",
              "    }\n",
              "</style>\n",
              "<table border=\"1\" class=\"dataframe\">\n",
              "  <thead>\n",
              "    <tr style=\"text-align: right;\">\n",
              "      <th></th>\n",
              "      <th>MSAVI2</th>\n",
              "      <th>date</th>\n",
              "      <th>system:index</th>\n",
              "    </tr>\n",
              "  </thead>\n",
              "  <tbody>\n",
              "    <tr>\n",
              "      <th>0</th>\n",
              "      <td>0.805534</td>\n",
              "      <td>2020-01-11 05:09:52</td>\n",
              "      <td>LC08_144048_20200111</td>\n",
              "    </tr>\n",
              "    <tr>\n",
              "      <th>1</th>\n",
              "      <td>0.867557</td>\n",
              "      <td>2020-01-27 05:09:47</td>\n",
              "      <td>LC08_144048_20200127</td>\n",
              "    </tr>\n",
              "    <tr>\n",
              "      <th>2</th>\n",
              "      <td>0.847248</td>\n",
              "      <td>2020-02-28 05:09:38</td>\n",
              "      <td>LC08_144048_20200228</td>\n",
              "    </tr>\n",
              "    <tr>\n",
              "      <th>3</th>\n",
              "      <td>0.851568</td>\n",
              "      <td>2020-03-15 05:09:32</td>\n",
              "      <td>LC08_144048_20200315</td>\n",
              "    </tr>\n",
              "    <tr>\n",
              "      <th>4</th>\n",
              "      <td>0.828832</td>\n",
              "      <td>2020-03-31 05:09:22</td>\n",
              "      <td>LC08_144048_20200331</td>\n",
              "    </tr>\n",
              "    <tr>\n",
              "      <th>5</th>\n",
              "      <td>0.746895</td>\n",
              "      <td>2020-04-16 05:09:16</td>\n",
              "      <td>LC08_144048_20200416</td>\n",
              "    </tr>\n",
              "    <tr>\n",
              "      <th>6</th>\n",
              "      <td>0.753645</td>\n",
              "      <td>2020-05-02 05:09:07</td>\n",
              "      <td>LC08_144048_20200502</td>\n",
              "    </tr>\n",
              "    <tr>\n",
              "      <th>7</th>\n",
              "      <td>0.456451</td>\n",
              "      <td>2020-06-03 05:09:11</td>\n",
              "      <td>LC08_144048_20200603</td>\n",
              "    </tr>\n",
              "  </tbody>\n",
              "</table>\n",
              "</div>"
            ],
            "text/plain": [
              "     MSAVI2                date          system:index\n",
              "0  0.805534 2020-01-11 05:09:52  LC08_144048_20200111\n",
              "1  0.867557 2020-01-27 05:09:47  LC08_144048_20200127\n",
              "2  0.847248 2020-02-28 05:09:38  LC08_144048_20200228\n",
              "3  0.851568 2020-03-15 05:09:32  LC08_144048_20200315\n",
              "4  0.828832 2020-03-31 05:09:22  LC08_144048_20200331\n",
              "5  0.746895 2020-04-16 05:09:16  LC08_144048_20200416\n",
              "6  0.753645 2020-05-02 05:09:07  LC08_144048_20200502\n",
              "7  0.456451 2020-06-03 05:09:11  LC08_144048_20200603"
            ]
          },
          "metadata": {
            "tags": []
          }
        }
      ]
    },
    {
      "cell_type": "code",
      "metadata": {
        "colab": {
          "base_uri": "https://localhost:8080/",
          "height": 342
        },
        "id": "ufbcpFUFZYTe",
        "outputId": "68c8fed7-f4e1-4448-fc9f-e7cd983f531d"
      },
      "source": [
        "# Time-series plot of MSAVI2 for PLace 3\n",
        "msavi_df_place3.plot(x='date', y='MSAVI2',marker ='.',markersize=10,color ='Brown',figsize=(8,5),title='MSAVI values of Place3 from January 2020 to June 2020')\n",
        "plt.xlabel(\"Dates\",color = 'Blue')\n",
        "plt.ylabel(\"Modified Soil Adjusted Vegetation Index\",color='Blue')\n",
        "plt.show()"
      ],
      "execution_count": 139,
      "outputs": [
        {
          "output_type": "display_data",
          "data": {
            "image/png": "[encoded data removed]",
            "text/plain": [
              "<Figure size 576x360 with 1 Axes>"
            ]
          },
          "metadata": {
            "tags": [],
            "needs_background": "light"
          }
        }
      ]
    },
    {
      "cell_type": "markdown",
      "metadata": {
        "id": "2P0uj4dGZTxO"
      },
      "source": [
        "**Observations and conclusions**\n",
        "* India has two crop seasons, Kharif (monsoon crops, July-October) and Rabi (non-monsoon crops, November - July). The analysis has been done from January to June which means it captures the growth and harvesting period of Rabi crops.\n",
        "\n",
        "* Place 2 and Place 3 both show higher values in the early months which represents dense vegetation and lower values towards the end.\n",
        "* The values in Place 2 is recorded least in april, representing completion of harvest\n",
        "* The values in Place 3 hits lowest in the month of June, marking the presence of bare land due to completion of harvest\n",
        "* Place 1 shows a little abnormality. Sudden dip is observed in the month of February and then a rising trend till June. Also, due to cloud and cloud shadow masking, number of images recieved are very less making it difficult to draw any kind of conclusions.\n"
      ]
    }
  ]
}